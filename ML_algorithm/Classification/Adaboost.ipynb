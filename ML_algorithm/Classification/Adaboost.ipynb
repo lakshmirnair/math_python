{
  "nbformat": 4,
  "nbformat_minor": 0,
  "metadata": {
    "colab": {
      "name": "Adaboost.ipynb",
      "provenance": [],
      "authorship_tag": "ABX9TyN4AVt7YVUeY2P4/yWeaFcX",
      "include_colab_link": true
    },
    "kernelspec": {
      "name": "python3",
      "display_name": "Python 3"
    }
  },
  "cells": [
    {
      "cell_type": "markdown",
      "metadata": {
        "id": "view-in-github",
        "colab_type": "text"
      },
      "source": [
        "<a href=\"https://colab.research.google.com/github/lakshmirnair/problem-solving-in-python/blob/master/ML_algorithm/Classification/Adaboost.ipynb\" target=\"_parent\"><img src=\"https://colab.research.google.com/assets/colab-badge.svg\" alt=\"Open In Colab\"/></a>"
      ]
    },
    {
      "cell_type": "markdown",
      "metadata": {
        "id": "eA05x4Z7V6qT"
      },
      "source": [
        "Adaboost for classification"
      ]
    },
    {
      "cell_type": "markdown",
      "metadata": {
        "id": "E0OyM0aSwyc6"
      },
      "source": [
        "1. Adaboost Classification"
      ]
    },
    {
      "cell_type": "code",
      "metadata": {
        "id": "LAw2nt5oPimO",
        "colab": {
          "base_uri": "https://localhost:8080/"
        },
        "outputId": "3ca99b44-6fa3-4c30-db84-2d9fdd529cad"
      },
      "source": [
        "from numpy import mean\r\n",
        "from numpy import std\r\n",
        "from sklearn.datasets import make_classification\r\n",
        "from sklearn.model_selection import cross_val_score\r\n",
        "from sklearn.model_selection import RepeatedStratifiedKFold\r\n",
        "from sklearn.ensemble import AdaBoostClassifier\r\n",
        "# define dataset\r\n",
        "#The number of redundant features. These features are generated as random linear combinations of the informative features.\r\n",
        "X, y = make_classification(n_samples=1000, n_features=20, n_informative=15, n_redundant=5, random_state=6)\r\n",
        "model = AdaBoostClassifier()\r\n",
        "cv = RepeatedStratifiedKFold(n_splits=10, n_repeats=3, random_state=1)\r\n",
        "n_scores = cross_val_score(model, X, y, scoring='accuracy', cv=cv, n_jobs=-1, error_score='raise')\r\n",
        "print('Accuracy: %.3f (%.3f)' % (mean(n_scores), std(n_scores)))"
      ],
      "execution_count": null,
      "outputs": [
        {
          "output_type": "stream",
          "text": [
            "Accuracy: 0.806 (0.041)\n"
          ],
          "name": "stdout"
        }
      ]
    },
    {
      "cell_type": "code",
      "metadata": {
        "colab": {
          "base_uri": "https://localhost:8080/"
        },
        "id": "q5xrgTwc6ULP",
        "outputId": "caecdc0d-165a-45fc-983b-a4d1dd135f1c"
      },
      "source": [
        "# make predictions \r\n",
        "from sklearn.datasets import make_classification\r\n",
        "from sklearn.ensemble import AdaBoostClassifier\r\n",
        "model.fit(X, y)\r\n",
        "# make a single prediction\r\n",
        "row = [[-3.47224758,1.95378146,0.04875169,-0.91592588,-3.54022468,1.96405547,-7.72564954,-2.64787168,-1.81726906,-1.67104974,2.33762043,-4.30273117,0.4839841,-1.28253034,-10.6704077,-0.7641103,-3.58493721,2.07283886,0.08385173,0.91461126]]\r\n",
        "yhat = model.predict(row)\r\n",
        "print('Predicted Class: %d' % yhat[0])"
      ],
      "execution_count": null,
      "outputs": [
        {
          "output_type": "stream",
          "text": [
            "Predicted Class: 0\n"
          ],
          "name": "stdout"
        }
      ]
    },
    {
      "cell_type": "markdown",
      "metadata": {
        "id": "9JJFUiHj7LiR"
      },
      "source": [
        "2. Adaboost Regression "
      ]
    },
    {
      "cell_type": "code",
      "metadata": {
        "colab": {
          "base_uri": "https://localhost:8080/"
        },
        "id": "s-H4qzK37Igv",
        "outputId": "b3b87e57-fb34-4a83-cb95-61537a850d49"
      },
      "source": [
        "from numpy import mean\r\n",
        "from numpy import std\r\n",
        "from sklearn.datasets import make_regression\r\n",
        "from sklearn.model_selection import cross_val_score\r\n",
        "from sklearn.model_selection import RepeatedKFold\r\n",
        "from sklearn.ensemble import AdaBoostRegressor\r\n",
        "# define dataset\r\n",
        "#The standard deviation of the gaussian noise applied to the output.[To center the data make it have zero mean and .1 std. error]\r\n",
        "X, y = make_regression(n_samples=1000, n_features=20, n_informative=15, noise=0.1, random_state=6)\r\n",
        "model = AdaBoostRegressor()\r\n",
        "cv = RepeatedKFold(n_splits=10, n_repeats=3, random_state=1)\r\n",
        "n_scores = cross_val_score(model, X, y, scoring='neg_mean_absolute_error', cv=cv, n_jobs=-1, error_score='raise')\r\n",
        "print('MAE: %.3f (%.3f)' % (mean(n_scores), std(n_scores)))"
      ],
      "execution_count": null,
      "outputs": [
        {
          "output_type": "stream",
          "text": [
            "MAE: -73.276 (4.445)\n"
          ],
          "name": "stdout"
        }
      ]
    },
    {
      "cell_type": "code",
      "metadata": {
        "colab": {
          "base_uri": "https://localhost:8080/"
        },
        "id": "KpcZikiM8z1l",
        "outputId": "b69a4b44-6521-44cb-b071-1b09dacab0ff"
      },
      "source": [
        "# making predictions for regression\r\n",
        "from sklearn.datasets import make_regression\r\n",
        "from sklearn.ensemble import AdaBoostRegressor\r\n",
        "model = AdaBoostRegressor()\r\n",
        "model.fit(X,y)\r\n",
        "row = [[1.20871625,0.88440466,-0.9030013,-0.22687731,-0.82940077,-1.14410988,1.26554256,-0.2842871,1.43929072,0.74250241,0.34035501,0.45363034,0.1778756,-1.75252881,-1.33337384,-1.50337215,-0.45099008,0.46160133,0.58385557,-1.79936198]]\r\n",
        "yhat = model.predict(row)\r\n",
        "print('Prediction: %d' % yhat[0])"
      ],
      "execution_count": null,
      "outputs": [
        {
          "output_type": "stream",
          "text": [
            "Prediction: 16\n"
          ],
          "name": "stdout"
        }
      ]
    },
    {
      "cell_type": "markdown",
      "metadata": {
        "id": "_3CVtv5PYPQB"
      },
      "source": [
        "3. Adaboost Hyperparameters \r\n",
        "\r\n",
        "   3.a) Explore number of trees"
      ]
    },
    {
      "cell_type": "code",
      "metadata": {
        "colab": {
          "base_uri": "https://localhost:8080/",
          "height": 355
        },
        "id": "7cXPdgauYrbf",
        "outputId": "1eebdf55-4f7a-4d53-802f-93a9a24e8478"
      },
      "source": [
        "from numpy import mean\r\n",
        "from numpy import std\r\n",
        "from sklearn.datasets import make_classification\r\n",
        "from sklearn.model_selection import cross_val_score\r\n",
        "from sklearn.model_selection import RepeatedStratifiedKFold\r\n",
        "from sklearn.ensemble import AdaBoostClassifier\r\n",
        "from matplotlib import pyplot\r\n",
        " \r\n",
        "#  dataset\r\n",
        "def get_dataset():\r\n",
        "\tX, y = make_classification(n_samples=1000, n_features=20, n_informative=15, n_redundant=5, random_state=6)\r\n",
        "\treturn X, y\r\n",
        " \r\n",
        "# get a list of models to evaluate \r\n",
        "def get_models():\r\n",
        "\tmodels = dict()\r\n",
        "\tn_trees = [10, 50, 100, 500, 1000]\r\n",
        "\tfor n in n_trees:\r\n",
        "\t\tmodels[str(n)] = AdaBoostClassifier(n_estimators=n)\r\n",
        "\treturn models\r\n",
        " \r\n",
        "def evaluate_model(model, X, y):\r\n",
        "\tcv = RepeatedStratifiedKFold(n_splits=10, n_repeats=3, random_state=1)\r\n",
        "\tscores = cross_val_score(model, X, y, scoring='accuracy', cv=cv, n_jobs=-1)\r\n",
        "\treturn scores\r\n",
        " \r\n",
        "\r\n",
        "X, y = get_dataset()\r\n",
        "# get the models to evaluate\r\n",
        "models = get_models()\r\n",
        "results, names = list(), list()\r\n",
        "for name, model in models.items():\r\n",
        "\t# evaluate the model\r\n",
        "\tscores = evaluate_model(model, X, y)\r\n",
        "\tresults.append(scores)\r\n",
        "\tnames.append(name)\r\n",
        "\tprint('>%s %.3f (%.3f)' % (name, mean(scores), std(scores)))\r\n",
        "pyplot.boxplot(results, labels=names, showmeans=True)\r\n",
        "pyplot.show()"
      ],
      "execution_count": 1,
      "outputs": [
        {
          "output_type": "stream",
          "text": [
            ">10 0.773 (0.039)\n",
            ">50 0.806 (0.041)\n",
            ">100 0.801 (0.032)\n",
            ">500 0.793 (0.028)\n",
            ">1000 0.791 (0.032)\n"
          ],
          "name": "stdout"
        },
        {
          "output_type": "display_data",
          "data": {
            "image/png": "[encoded data removed]",
            "text/plain": [
              "<Figure size 432x288 with 1 Axes>"
            ]
          },
          "metadata": {
            "tags": [],
            "needs_background": "light"
          }
        }
      ]
    },
    {
      "cell_type": "markdown",
      "metadata": {
        "id": "fa4u3qX-NuRP"
      },
      "source": [
        "3.b)Explore weak learners :\r\n",
        "A decision tree with one level is used as the weak learner by default.\r\n",
        "\r\n",
        "We can make the models used in the ensemble less weak (more skillful) by increasing the depth of the decision tree.\r\n"
      ]
    },
    {
      "cell_type": "code",
      "metadata": {
        "colab": {
          "base_uri": "https://localhost:8080/",
          "height": 441
        },
        "id": "TJICMgibOEyp",
        "outputId": "3647107e-e78c-4e18-cad3-274ffd2262eb"
      },
      "source": [
        "from numpy import mean\r\n",
        "from numpy import std\r\n",
        "from sklearn.datasets import make_classification\r\n",
        "from sklearn.model_selection import cross_val_score\r\n",
        "from sklearn.model_selection import RepeatedStratifiedKFold\r\n",
        "from sklearn.ensemble import AdaBoostClassifier\r\n",
        "from sklearn.tree import DecisionTreeClassifier\r\n",
        "from matplotlib import pyplot\r\n",
        "\r\n",
        "def get_dataset():\r\n",
        "\tX, y = make_classification(n_samples=1000, n_features=20, n_informative=15, n_redundant=5, random_state=6)\r\n",
        "\treturn X, y\r\n",
        "\r\n",
        "\r\n",
        "def get_models():\r\n",
        "\tmodels = dict()\r\n",
        "\t# explore depths from 1 to 10\r\n",
        "\tfor i in range(1,11):\r\n",
        "\t\t# define base model\r\n",
        "\t\tbase = DecisionTreeClassifier(max_depth=i)\r\n",
        "\t\t# define ensemble model\r\n",
        "\t\tmodels[str(i)] = AdaBoostClassifier(base_estimator=base)\r\n",
        "\treturn models\r\n",
        "\r\n",
        "def evaluate_model(model, X, y):\r\n",
        "\tcv = RepeatedStratifiedKFold(n_splits=10, n_repeats=3, random_state=1)\r\n",
        "\tscores = cross_val_score(model, X, y, scoring='accuracy', cv=cv, n_jobs=-1)\r\n",
        "\treturn scores\r\n",
        "\r\n",
        "\r\n",
        "X, y = get_dataset()\r\n",
        "models = get_models()\r\n",
        "results, names = list(), list()\r\n",
        "for name, model in models.items():\r\n",
        "\tscores = evaluate_model(model, X, y)\r\n",
        "\tresults.append(scores)\r\n",
        "\tnames.append(name)\r\n",
        "\tprint('>%s %.3f (%.3f)' % (name, mean(scores), std(scores)))\r\n",
        "pyplot.boxplot(results, labels=names, showmeans=True)\r\n",
        "pyplot.show()"
      ],
      "execution_count": 2,
      "outputs": [
        {
          "output_type": "stream",
          "text": [
            ">1 0.806 (0.041)\n",
            ">2 0.863 (0.028)\n",
            ">3 0.867 (0.030)\n",
            ">4 0.889 (0.030)\n",
            ">5 0.910 (0.024)\n",
            ">6 0.921 (0.022)\n",
            ">7 0.930 (0.027)\n",
            ">8 0.925 (0.028)\n",
            ">9 0.921 (0.022)\n",
            ">10 0.924 (0.029)\n"
          ],
          "name": "stdout"
        },
        {
          "output_type": "display_data",
          "data": {
            "image/png": "[encoded data removed]",
            "text/plain": [
              "<Figure size 432x288 with 1 Axes>"
            ]
          },
          "metadata": {
            "tags": [],
            "needs_background": "light"
          }
        }
      ]
    },
    {
      "cell_type": "markdown",
      "metadata": {
        "id": "-wwwVldcPXtV"
      },
      "source": [
        "conclusion: Depth increases performance increases"
      ]
    },
    {
      "cell_type": "markdown",
      "metadata": {
        "id": "w6vQZV5APoCz"
      },
      "source": [
        "3.c) Learning Rate\r\n",
        "\r\n",
        "AdaBoost also supports a learning rate that controls the contribution of each model to the ensemble prediction.This is controlled by the “learning_rate” argument and by default is set to 1.0 or full contribution. It is common to use values between 0 and 1 and sometimes very small values to avoid overfitting such as 0.1, 0.01 or 0.001."
      ]
    },
    {
      "cell_type": "code",
      "metadata": {
        "colab": {
          "base_uri": "https://localhost:8080/",
          "height": 630
        },
        "id": "k2A9noKMSoQG",
        "outputId": "bb65380f-449f-451d-8ee6-04de99fd9304"
      },
      "source": [
        "from numpy import mean\r\n",
        "from numpy import std\r\n",
        "from numpy import arange\r\n",
        "from sklearn.datasets import make_classification\r\n",
        "from sklearn.model_selection import cross_val_score\r\n",
        "from sklearn.model_selection import RepeatedStratifiedKFold\r\n",
        "from sklearn.ensemble import AdaBoostClassifier\r\n",
        "from matplotlib import pyplot\r\n",
        "\r\n",
        "def get_dataset():\r\n",
        "\tX, y = make_classification(n_samples=1000, n_features=20, n_informative=15, n_redundant=5, random_state=6)\r\n",
        "\treturn X, y\r\n",
        "\r\n",
        "def get_models():\r\n",
        "\tmodels = dict()\r\n",
        "\t# explore learning rates from 0.1 to 2 in 0.1 increments\r\n",
        "\tfor i in arange(0.1, 2.1, 0.1):\r\n",
        "\t\tkey = '%.3f' % i\r\n",
        "\t\tmodels[key] = AdaBoostClassifier(learning_rate=i)\r\n",
        "\treturn models\r\n",
        "\r\n",
        "\r\n",
        "def evaluate_model(model, X, y):\r\n",
        "\tcv = RepeatedStratifiedKFold(n_splits=10, n_repeats=3, random_state=1)\r\n",
        "\tscores = cross_val_score(model, X, y, scoring='accuracy', cv=cv, n_jobs=-1)\r\n",
        "\treturn scores\r\n",
        "\r\n",
        "\r\n",
        "X, y = get_dataset()\r\n",
        "models = get_models()\r\n",
        "results, names = list(), list()\r\n",
        "for name, model in models.items():\r\n",
        "\tscores = evaluate_model(model, X, y)\r\n",
        "\tresults.append(scores)\r\n",
        "\tnames.append(name)\r\n",
        "\tprint('>%s %.3f (%.3f)' % (name, mean(scores), std(scores)))\r\n",
        "pyplot.boxplot(results, labels=names, showmeans=True)\r\n",
        "pyplot.xticks(rotation=45)\r\n",
        "pyplot.show()"
      ],
      "execution_count": 3,
      "outputs": [
        {
          "output_type": "stream",
          "text": [
            ">0.100 0.767 (0.049)\n",
            ">0.200 0.786 (0.042)\n",
            ">0.300 0.802 (0.040)\n",
            ">0.400 0.798 (0.037)\n",
            ">0.500 0.805 (0.042)\n",
            ">0.600 0.795 (0.031)\n",
            ">0.700 0.799 (0.035)\n",
            ">0.800 0.801 (0.033)\n",
            ">0.900 0.805 (0.032)\n",
            ">1.000 0.806 (0.041)\n",
            ">1.100 0.801 (0.037)\n",
            ">1.200 0.800 (0.030)\n",
            ">1.300 0.799 (0.041)\n",
            ">1.400 0.793 (0.041)\n",
            ">1.500 0.790 (0.040)\n",
            ">1.600 0.775 (0.034)\n",
            ">1.700 0.767 (0.054)\n",
            ">1.800 0.768 (0.040)\n",
            ">1.900 0.736 (0.047)\n",
            ">2.000 0.682 (0.048)\n"
          ],
          "name": "stdout"
        },
        {
          "output_type": "display_data",
          "data": {
            "image/png": "[encoded data removed]",
            "text/plain": [
              "<Figure size 432x288 with 1 Axes>"
            ]
          },
          "metadata": {
            "tags": [],
            "needs_background": "light"
          }
        }
      ]
    },
    {
      "cell_type": "markdown",
      "metadata": {
        "id": "u-Q65F4BU_5P"
      },
      "source": [
        "Coclusion : the general trend of decreasing model performance with a learning rate larger than 1.0 on this dataset.\r\n",
        "\r\n"
      ]
    },
    {
      "cell_type": "markdown",
      "metadata": {
        "id": "Vk__SiL4Vmmc"
      },
      "source": [
        "3.d) Explore ALternate algorithm "
      ]
    },
    {
      "cell_type": "code",
      "metadata": {
        "colab": {
          "base_uri": "https://localhost:8080/"
        },
        "id": "is9_K_TWWRfz",
        "outputId": "38149d15-6fb5-41a8-dbd3-521e1d0ab829"
      },
      "source": [
        "#Logistic Regression\r\n",
        "from numpy import mean\r\n",
        "from numpy import std\r\n",
        "from sklearn.datasets import make_classification\r\n",
        "from sklearn.model_selection import cross_val_score\r\n",
        "from sklearn.model_selection import RepeatedStratifiedKFold\r\n",
        "from sklearn.ensemble import AdaBoostClassifier\r\n",
        "from sklearn.linear_model import LogisticRegression\r\n",
        "\r\n",
        "X, y = make_classification(n_samples=1000, n_features=20, n_informative=15, n_redundant=5, random_state=6)\r\n",
        "model = AdaBoostClassifier(base_estimator=LogisticRegression())\r\n",
        "cv = RepeatedStratifiedKFold(n_splits=10, n_repeats=3, random_state=1)\r\n",
        "n_scores = cross_val_score(model, X, y, scoring='accuracy', cv=cv, n_jobs=-1, error_score='raise')\r\n",
        "print('Accuracy: %.3f (%.3f)' % (mean(n_scores), std(n_scores)))"
      ],
      "execution_count": 4,
      "outputs": [
        {
          "output_type": "stream",
          "text": [
            "Accuracy: 0.794 (0.032)\n"
          ],
          "name": "stdout"
        }
      ]
    },
    {
      "cell_type": "markdown",
      "metadata": {
        "id": "BR4-dT65YilY"
      },
      "source": [
        "3.e) Grid Search Algorithm : It is a good practice to use a search process to discover a configuration of the model hyperparameters that works well or best for a given predictive modeling problem."
      ]
    },
    {
      "cell_type": "code",
      "metadata": {
        "colab": {
          "base_uri": "https://localhost:8080/"
        },
        "id": "3jCTw-uaYzaL",
        "outputId": "5cf3c58a-e9dd-4207-d3a6-90bb8bf0a5f7"
      },
      "source": [
        "from sklearn.datasets import make_classification\r\n",
        "from sklearn.model_selection import RepeatedStratifiedKFold\r\n",
        "from sklearn.model_selection import GridSearchCV\r\n",
        "from sklearn.ensemble import AdaBoostClassifier\r\n",
        "\r\n",
        "X, y = make_classification(n_samples=1000, n_features=20, n_informative=15, n_redundant=5, random_state=6)\r\n",
        "model = AdaBoostClassifier()\r\n",
        "# define the grid of values to search\r\n",
        "grid = dict()\r\n",
        "grid['n_estimators'] = [10, 50, 100, 500]\r\n",
        "grid['learning_rate'] = [0.0001, 0.001, 0.01, 0.1, 1.0]\r\n",
        "\r\n",
        "cv = RepeatedStratifiedKFold(n_splits=10, n_repeats=3, random_state=1)\r\n",
        "# define the grid search procedure\r\n",
        "grid_search = GridSearchCV(estimator=model, param_grid=grid, n_jobs=-1, cv=cv, scoring='accuracy')\r\n",
        "grid_result = grid_search.fit(X, y)\r\n",
        "print(\"Best: %f using %s\" % (grid_result.best_score_, grid_result.best_params_))\r\n",
        "means = grid_result.cv_results_['mean_test_score']\r\n",
        "stds = grid_result.cv_results_['std_test_score']\r\n",
        "params = grid_result.cv_results_['params']\r\n",
        "for mean, stdev, param in zip(means, stds, params):\r\n",
        "    print(\"%f (%f) with: %r\" % (mean, stdev, param))"
      ],
      "execution_count": 5,
      "outputs": [
        {
          "output_type": "stream",
          "text": [
            "Best: 0.813667 using {'learning_rate': 0.1, 'n_estimators': 500}\n",
            "0.646333 (0.036376) with: {'learning_rate': 0.0001, 'n_estimators': 10}\n",
            "0.646667 (0.036545) with: {'learning_rate': 0.0001, 'n_estimators': 50}\n",
            "0.646667 (0.036545) with: {'learning_rate': 0.0001, 'n_estimators': 100}\n",
            "0.647000 (0.038136) with: {'learning_rate': 0.0001, 'n_estimators': 500}\n",
            "0.646667 (0.036545) with: {'learning_rate': 0.001, 'n_estimators': 10}\n",
            "0.647000 (0.038136) with: {'learning_rate': 0.001, 'n_estimators': 50}\n",
            "0.654333 (0.045511) with: {'learning_rate': 0.001, 'n_estimators': 100}\n",
            "0.672667 (0.046543) with: {'learning_rate': 0.001, 'n_estimators': 500}\n",
            "0.648333 (0.042197) with: {'learning_rate': 0.01, 'n_estimators': 10}\n",
            "0.671667 (0.045613) with: {'learning_rate': 0.01, 'n_estimators': 50}\n",
            "0.715000 (0.053213) with: {'learning_rate': 0.01, 'n_estimators': 100}\n",
            "0.767667 (0.045948) with: {'learning_rate': 0.01, 'n_estimators': 500}\n",
            "0.716667 (0.048876) with: {'learning_rate': 0.1, 'n_estimators': 10}\n",
            "0.767000 (0.049271) with: {'learning_rate': 0.1, 'n_estimators': 50}\n",
            "0.784667 (0.042874) with: {'learning_rate': 0.1, 'n_estimators': 100}\n",
            "0.813667 (0.032092) with: {'learning_rate': 0.1, 'n_estimators': 500}\n",
            "0.773333 (0.038759) with: {'learning_rate': 1.0, 'n_estimators': 10}\n",
            "0.806333 (0.040701) with: {'learning_rate': 1.0, 'n_estimators': 50}\n",
            "0.801000 (0.032491) with: {'learning_rate': 1.0, 'n_estimators': 100}\n",
            "0.792667 (0.027560) with: {'learning_rate': 1.0, 'n_estimators': 500}\n"
          ],
          "name": "stdout"
        }
      ]
    }
  ]
}