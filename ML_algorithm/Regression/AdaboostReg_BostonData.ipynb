{
  "nbformat": 4,
  "nbformat_minor": 0,
  "metadata": {
    "colab": {
      "name": "AdaboostReg_BostonData.ipynb",
      "provenance": [],
      "authorship_tag": "ABX9TyM3Ibaem3maKnxxrqrJbx+Z",
      "include_colab_link": true
    },
    "kernelspec": {
      "name": "python3",
      "display_name": "Python 3"
    }
  },
  "cells": [
    {
      "cell_type": "markdown",
      "metadata": {
        "id": "view-in-github",
        "colab_type": "text"
      },
      "source": [
        "<a href=\"https://colab.research.google.com/github/lakshmirnair/problem-solving-in-python/blob/master/ML_algorithm/Regression/AdaboostReg_BostonData.ipynb\" target=\"_parent\"><img src=\"https://colab.research.google.com/assets/colab-badge.svg\" alt=\"Open In Colab\"/></a>"
      ]
    },
    {
      "cell_type": "markdown",
      "metadata": {
        "id": "YLeL0pQufTNH"
      },
      "source": [
        "Adaboost Regressor using Boston Datatset"
      ]
    },
    {
      "cell_type": "code",
      "metadata": {
        "id": "cFQzqp7kfTx6"
      },
      "source": [
        "from sklearn.ensemble import AdaBoostRegressor\r\n",
        "from sklearn.datasets import load_boston\r\n",
        "from sklearn.model_selection import train_test_split\r\n",
        "from sklearn.model_selection import cross_val_score, KFold\r\n",
        "from sklearn.metrics import mean_squared_error\r\n",
        "import matplotlib.pyplot as plt"
      ],
      "execution_count": 1,
      "outputs": []
    },
    {
      "cell_type": "code",
      "metadata": {
        "id": "trxhyzhPgAgB"
      },
      "source": [
        "boston = load_boston()\r\n",
        "x, y = boston.data, boston.target\r\n",
        "xtrain, xtest, ytrain, ytest=train_test_split(x, y, test_size=0.25)"
      ],
      "execution_count": 2,
      "outputs": []
    },
    {
      "cell_type": "markdown",
      "metadata": {
        "id": "ehyOBf3fgu_b"
      },
      "source": [
        "1.The base estimator from which the boosted ensemble is built. If None, then the base estimator is DecisionTreeRegressor initialized with max_depth=3.  \r\n",
        "\r\n",
        "2.Learning rate : controls the contribution of each model to the ensemble prediction.\r\n",
        "\r\n",
        "\r\n",
        "\r\n"
      ]
    },
    {
      "cell_type": "code",
      "metadata": {
        "colab": {
          "base_uri": "https://localhost:8080/"
        },
        "id": "naovMhehgGp-",
        "outputId": "c28d70ff-167e-4665-8df0-f1b55c792b53"
      },
      "source": [
        "ada_reg = AdaBoostRegressor(n_estimators=100)\r\n",
        "print(ada_reg)\r\n",
        "AdaBoostRegressor(base_estimator=None, learning_rate=1.0, loss='linear', n_estimators=100, random_state=None) \r\n",
        "ada_reg.fit(xtrain, ytrain)"
      ],
      "execution_count": 3,
      "outputs": [
        {
          "output_type": "stream",
          "text": [
            "AdaBoostRegressor(base_estimator=None, learning_rate=1.0, loss='linear',\n",
            "                  n_estimators=100, random_state=None)\n"
          ],
          "name": "stdout"
        },
        {
          "output_type": "execute_result",
          "data": {
            "text/plain": [
              "AdaBoostRegressor(base_estimator=None, learning_rate=1.0, loss='linear',\n",
              "                  n_estimators=100, random_state=None)"
            ]
          },
          "metadata": {
            "tags": []
          },
          "execution_count": 3
        }
      ]
    },
    {
      "cell_type": "code",
      "metadata": {
        "colab": {
          "base_uri": "https://localhost:8080/"
        },
        "id": "t-HrzYUJlbcz",
        "outputId": "14b861a9-75b1-4ee8-cb1e-708b41e8786e"
      },
      "source": [
        "#accuracy \r\n",
        "scores = cross_val_score(ada_reg, xtrain,ytrain,cv=5)\r\n",
        "print(\"Mean cross-validataion score: %.2f\" % scores.mean())\r\n",
        "\r\n",
        "#Whether to shuffle the data before splitting into batches. Note that the samples within each split will be shuffled if it is true.\r\n",
        "kfold = KFold(n_splits=10, shuffle=True)\r\n",
        "kf_cv_scores = cross_val_score(ada_reg, xtrain, ytrain, cv=kfold )\r\n",
        "print(\"K-fold CV average score: %.2f\" % kf_cv_scores.mean())\r\n"
      ],
      "execution_count": 4,
      "outputs": [
        {
          "output_type": "stream",
          "text": [
            "Mean cross-validataion score: 0.79\n",
            "K-fold CV average score: 0.81\n"
          ],
          "name": "stdout"
        }
      ]
    },
    {
      "cell_type": "code",
      "metadata": {
        "colab": {
          "base_uri": "https://localhost:8080/"
        },
        "id": "DA7Mu6D-KFkA",
        "outputId": "1fda47d5-f6c6-4e0a-d87d-5d2dfc1a92a7"
      },
      "source": [
        "import numpy as np\r\n",
        "ypred = ada_reg.predict(xtest)\r\n",
        "mse = mean_squared_error(ytest,ypred)\r\n",
        "print(\"MSE: %.2f\" % mse)\r\n",
        "print(\"RMSE: %.2f\" % np.sqrt(mse))\r\n"
      ],
      "execution_count": 6,
      "outputs": [
        {
          "output_type": "stream",
          "text": [
            "MSE: 11.68\n",
            "RMSE: 3.42\n"
          ],
          "name": "stdout"
        }
      ]
    },
    {
      "cell_type": "code",
      "metadata": {
        "colab": {
          "base_uri": "https://localhost:8080/",
          "height": 265
        },
        "id": "1AgbKVJjOmg9",
        "outputId": "0d2ffe41-d1c9-4261-de51-b39e6ae5cf47"
      },
      "source": [
        "x_ax = range(len(ytest))\r\n",
        "plt.scatter(x_ax, ytest, s=5, color=\"blue\", label=\"original\")\r\n",
        "plt.plot(x_ax, ypred, lw=0.8, color=\"red\", label=\"predicted\")\r\n",
        "plt.legend()\r\n",
        "plt.show()"
      ],
      "execution_count": 7,
      "outputs": [
        {
          "output_type": "display_data",
          "data": {
            "image/png": "[encoded data removed]",
            "text/plain": [
              "<Figure size 432x288 with 1 Axes>"
            ]
          },
          "metadata": {
            "tags": [],
            "needs_background": "light"
          }
        }
      ]
    }
  ]
}