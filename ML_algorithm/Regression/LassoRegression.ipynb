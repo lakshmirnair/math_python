{
  "nbformat": 4,
  "nbformat_minor": 0,
  "metadata": {
    "colab": {
      "name": "LassoRegression.ipynb",
      "provenance": [],
      "authorship_tag": "ABX9TyOOwZZD5zaeVp1VNMLB0NgH",
      "include_colab_link": true
    },
    "kernelspec": {
      "name": "python3",
      "display_name": "Python 3"
    }
  },
  "cells": [
    {
      "cell_type": "markdown",
      "metadata": {
        "id": "view-in-github",
        "colab_type": "text"
      },
      "source": [
        "<a href=\"https://colab.research.google.com/github/lakshmirnair/problem-solving-in-python/blob/master/ML_algorithm/Regression/LassoRegression.ipynb\" target=\"_parent\"><img src=\"https://colab.research.google.com/assets/colab-badge.svg\" alt=\"Open In Colab\"/></a>"
      ]
    },
    {
      "cell_type": "code",
      "metadata": {
        "colab": {
          "base_uri": "https://localhost:8080/"
        },
        "id": "OaL8jfk4qXhY",
        "outputId": "e5704dc1-0ca3-4110-81ff-a4977f656632"
      },
      "source": [
        "#Using Boston Housing data \r\n",
        "from pandas import read_csv\r\n",
        "from matplotlib import pyplot\r\n",
        "url = 'https://raw.githubusercontent.com/jbrownlee/Datasets/master/housing.csv'\r\n",
        "dataframe = read_csv(url, header=None)\r\n",
        "# summarize shape\r\n",
        "print(dataframe.shape)\r\n",
        "print(dataframe.head())"
      ],
      "execution_count": null,
      "outputs": [
        {
          "output_type": "stream",
          "text": [
            "(506, 14)\n",
            "        0     1     2   3      4      5   ...  8      9     10      11    12    13\n",
            "0  0.00632  18.0  2.31   0  0.538  6.575  ...   1  296.0  15.3  396.90  4.98  24.0\n",
            "1  0.02731   0.0  7.07   0  0.469  6.421  ...   2  242.0  17.8  396.90  9.14  21.6\n",
            "2  0.02729   0.0  7.07   0  0.469  7.185  ...   2  242.0  17.8  392.83  4.03  34.7\n",
            "3  0.03237   0.0  2.18   0  0.458  6.998  ...   3  222.0  18.7  394.63  2.94  33.4\n",
            "4  0.06905   0.0  2.18   0  0.458  7.147  ...   3  222.0  18.7  396.90  5.33  36.2\n",
            "\n",
            "[5 rows x 14 columns]\n"
          ],
          "name": "stdout"
        }
      ]
    },
    {
      "cell_type": "code",
      "metadata": {
        "colab": {
          "base_uri": "https://localhost:8080/"
        },
        "id": "oDWCXYohrbCK",
        "outputId": "fb66a7b0-893e-40b2-a833-389292f0c5e7"
      },
      "source": [
        "# evaluate an lasso regression model on the dataset\r\n",
        "from numpy import mean\r\n",
        "from numpy import std\r\n",
        "from numpy import absolute\r\n",
        "from pandas import read_csv\r\n",
        "from sklearn.model_selection import cross_val_score\r\n",
        "from sklearn.model_selection import RepeatedKFold\r\n",
        "from sklearn.linear_model import Lasso\r\n",
        "url = 'https://raw.githubusercontent.com/jbrownlee/Datasets/master/housing.csv'\r\n",
        "dataframe = read_csv(url, header=None)\r\n",
        "data = dataframe.values\r\n",
        "X, y = data[:, :-1], data[:, -1]\r\n",
        "model = Lasso(alpha=1.0)\r\n",
        "# define model evaluation method\r\n",
        "cv = RepeatedKFold(n_splits=10, n_repeats=3, random_state=1)\r\n",
        "# find accuracy, Scoring function = \"https://scikit-learn.org/stable/modules/model_evaluation.html\"\r\n",
        "scores = cross_val_score(model, X, y, scoring='neg_mean_absolute_error', cv=cv, n_jobs=-1)\r\n",
        "scores = absolute(scores)\r\n",
        "print('Mean MAE: %.3f (%.3f)' % (mean(scores), std(scores)))"
      ],
      "execution_count": 9,
      "outputs": [
        {
          "output_type": "stream",
          "text": [
            "Mean MAE: 3.711 (0.549)\n"
          ],
          "name": "stdout"
        }
      ]
    },
    {
      "cell_type": "code",
      "metadata": {
        "colab": {
          "base_uri": "https://localhost:8080/"
        },
        "id": "IRHiddGTmuhf",
        "outputId": "7f7490dd-6964-429b-ca21-6641a0f4f5d1"
      },
      "source": [
        "#Predict y Value\r\n",
        "model.fit(X, y)\r\n",
        "row = [0.00632,18.00,2.310,0,0.5380,6.5750,65.20,4.0900,1,296.0,15.30,396.90,4.98]\r\n",
        "y_pred = model.predict([row])\r\n",
        "print('Predicted: %.3f' % y_pred)"
      ],
      "execution_count": 10,
      "outputs": [
        {
          "output_type": "stream",
          "text": [
            "Predicted: 30.998\n"
          ],
          "name": "stdout"
        }
      ]
    },
    {
      "cell_type": "markdown",
      "metadata": {
        "id": "APkP_M62nMle"
      },
      "source": [
        "Tuning Lasso hyperparameters \r\n"
      ]
    },
    {
      "cell_type": "code",
      "metadata": {
        "colab": {
          "base_uri": "https://localhost:8080/"
        },
        "id": "6LynuGnznL9q",
        "outputId": "e12d4458-a0c9-4ca0-d0fc-a1312a808a9f"
      },
      "source": [
        "# grid search hyperparameters for lasso regression\r\n",
        "from numpy import arange\r\n",
        "from sklearn.model_selection import GridSearchCV\r\n",
        "from sklearn.model_selection import RepeatedKFold\r\n",
        "from sklearn.linear_model import Lasso\r\n",
        "model = Lasso()\r\n",
        "\r\n",
        "cv = RepeatedKFold(n_splits=10, n_repeats=3, random_state=1)\r\n",
        "# define grid\r\n",
        "grid = dict()\r\n",
        "grid['alpha'] = arange(0, 1, 0.01)\r\n",
        "# define search\r\n",
        "search = GridSearchCV(model, grid, scoring='neg_mean_absolute_error', cv=cv, n_jobs=-1)\r\n",
        "results = search.fit(X, y)\r\n",
        "# summarize\r\n",
        "print('MAE: %.3f' % results.best_score_)\r\n",
        "print('Config: %s' % results.best_params_)"
      ],
      "execution_count": 11,
      "outputs": [
        {
          "output_type": "stream",
          "text": [
            "MAE: -3.379\n",
            "Config: {'alpha': 0.01}\n"
          ],
          "name": "stdout"
        }
      ]
    },
    {
      "cell_type": "markdown",
      "metadata": {
        "id": "d7hC_gQbt4H1"
      },
      "source": [
        "The scikit-learn library also provides a built-in version of the algorithm that automatically finds good hyperparameters via the LassoCV class."
      ]
    },
    {
      "cell_type": "code",
      "metadata": {
        "id": "h0RVPSVFD6h7"
      },
      "source": [
        "\r\n",
        "#  automatically configured the lasso regression algorithm\r\n",
        "from numpy import arange\r\n",
        "from sklearn.linear_model import LassoCV\r\n",
        "from sklearn.model_selection import RepeatedKFold\r\n",
        "cv = RepeatedKFold(n_splits=10, n_repeats=3, random_state=1)\r\n",
        "\r\n",
        "model = LassoCV(alphas=arange(0, 1, 0.01), cv=cv, n_jobs=-1)\r\n",
        "model.fit(X, y)\r\n",
        "print('alpha: %f' % model.alpha_)\r\n",
        "# output== 0?"
      ],
      "execution_count": null,
      "outputs": []
    }
  ]
}