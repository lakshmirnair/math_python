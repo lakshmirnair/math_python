{
  "nbformat": 4,
  "nbformat_minor": 0,
  "metadata": {
    "colab": {
      "name": "feature_selection.ipynb",
      "provenance": [],
      "authorship_tag": "ABX9TyN3Tc8QUq59gOR05ukzaUCT",
      "include_colab_link": true
    },
    "kernelspec": {
      "name": "python3",
      "display_name": "Python 3"
    }
  },
  "cells": [
    {
      "cell_type": "markdown",
      "metadata": {
        "id": "view-in-github",
        "colab_type": "text"
      },
      "source": [
        "<a href=\"https://colab.research.google.com/github/lakshmirnair/problem-solving-in-python/blob/master/ML_algorithm/Regression/feature_selection.ipynb\" target=\"_parent\"><img src=\"https://colab.research.google.com/assets/colab-badge.svg\" alt=\"Open In Colab\"/></a>"
      ]
    },
    {
      "cell_type": "markdown",
      "metadata": {
        "id": "YTKU4__cokJ4"
      },
      "source": [
        "Feature selection with pandas and Sklearn using buit-in dataset Boston."
      ]
    },
    {
      "cell_type": "markdown",
      "metadata": {
        "id": "jvSYJumrshx5"
      },
      "source": [
        "CRIM - per capita crime rate by town\r\n",
        "ZN - proportion of residential land zoned for lots over 25,000 sq.ft.\r\n",
        "INDUS - proportion of non-retail business acres per town.\r\n",
        "CHAS - Charles River dummy variable (1 if tract bounds river; 0 otherwise)\r\n",
        "NOX - nitric oxides concentration (parts per 10 million)\r\n",
        "RM - average number of rooms per dwelling\r\n",
        "AGE - proportion of owner-occupied units built prior to 1940\r\n",
        "DIS - weighted distances to five Boston employment centres\r\n",
        "RAD - index of accessibility to radial highways\r\n",
        "RAD - index of accessibility to radial highways\r\n",
        "TAX - full-value property-tax rate per $10,000 \r\n"
      ]
    },
    {
      "cell_type": "markdown",
      "metadata": {
        "id": "GlxhTBdOtW7j"
      },
      "source": [
        "PTRATIO - pupil-teacher ratio by town\r\n",
        "B - 1000(Bk - 0.63)^2 where Bk is the proportion of blacks by town\r\n",
        "LSTAT - % lower status of the population\r\n",
        "MEDV - Median value of owner-occupied homes in $1000's"
      ]
    },
    {
      "cell_type": "code",
      "metadata": {
        "colab": {
          "base_uri": "https://localhost:8080/"
        },
        "id": "kWzfpST__-2N",
        "outputId": "46a4c7fc-a53e-4e8c-ac01-902b2bba82e8"
      },
      "source": [
        "from sklearn.datasets import load_boston\r\n",
        "import pandas as pd\r\n",
        "import numpy as np\r\n",
        "import matplotlib\r\n",
        "import matplotlib.pyplot as plt\r\n",
        "import seaborn as sns\r\n",
        "import statsmodels.api as sm\r\n",
        "from sklearn.model_selection import train_test_split\r\n",
        "from sklearn.linear_model import LinearRegression\r\n",
        "from sklearn.feature_selection import RFE\r\n",
        "from sklearn.linear_model import RidgeCV, LassoCV, Ridge, Lasso\r\n",
        "#Loading the dataset\r\n",
        "x = load_boston()\r\n",
        "df = pd.DataFrame(x.data, columns = x.feature_names)\r\n",
        "df[\"MEDV\"] = x.target\r\n"
      ],
      "execution_count": 1,
      "outputs": [
        {
          "output_type": "stream",
          "text": [
            "/usr/local/lib/python3.6/dist-packages/statsmodels/tools/_testing.py:19: FutureWarning: pandas.util.testing is deprecated. Use the functions in the public API at pandas.testing instead.\n",
            "  import pandas.util.testing as tm\n"
          ],
          "name": "stderr"
        }
      ]
    },
    {
      "cell_type": "code",
      "metadata": {
        "colab": {
          "base_uri": "https://localhost:8080/"
        },
        "id": "x7uTWXXcthyz",
        "outputId": "e5569487-860c-48cd-f236-bd85dca98d2e"
      },
      "source": [
        "# 13 independant variable \r\n",
        "x.data[0] "
      ],
      "execution_count": 2,
      "outputs": [
        {
          "output_type": "execute_result",
          "data": {
            "text/plain": [
              "array([6.320e-03, 1.800e+01, 2.310e+00, 0.000e+00, 5.380e-01, 6.575e+00,\n",
              "       6.520e+01, 4.090e+00, 1.000e+00, 2.960e+02, 1.530e+01, 3.969e+02,\n",
              "       4.980e+00])"
            ]
          },
          "metadata": {
            "tags": []
          },
          "execution_count": 2
        }
      ]
    },
    {
      "cell_type": "code",
      "metadata": {
        "colab": {
          "base_uri": "https://localhost:8080/",
          "height": 415
        },
        "id": "JZUMW9CTxAkq",
        "outputId": "9d8dcb84-7a78-487c-d521-7f1b7c79b240"
      },
      "source": [
        "#Whether to drop labels from the index (0 or ‘index’) or columns (1 or ‘columns’).\r\n",
        "X = df.drop(\"MEDV\",1)   \r\n",
        "y = df[\"MEDV\"]          #Target Variable\r\n",
        "X\r\n"
      ],
      "execution_count": 3,
      "outputs": [
        {
          "output_type": "execute_result",
          "data": {
            "text/html": [
              "<div>\n",
              "<style scoped>\n",
              "    .dataframe tbody tr th:only-of-type {\n",
              "        vertical-align: middle;\n",
              "    }\n",
              "\n",
              "    .dataframe tbody tr th {\n",
              "        vertical-align: top;\n",
              "    }\n",
              "\n",
              "    .dataframe thead th {\n",
              "        text-align: right;\n",
              "    }\n",
              "</style>\n",
              "<table border=\"1\" class=\"dataframe\">\n",
              "  <thead>\n",
              "    <tr style=\"text-align: right;\">\n",
              "      <th></th>\n",
              "      <th>CRIM</th>\n",
              "      <th>ZN</th>\n",
              "      <th>INDUS</th>\n",
              "      <th>CHAS</th>\n",
              "      <th>NOX</th>\n",
              "      <th>RM</th>\n",
              "      <th>AGE</th>\n",
              "      <th>DIS</th>\n",
              "      <th>RAD</th>\n",
              "      <th>TAX</th>\n",
              "      <th>PTRATIO</th>\n",
              "      <th>B</th>\n",
              "      <th>LSTAT</th>\n",
              "    </tr>\n",
              "  </thead>\n",
              "  <tbody>\n",
              "    <tr>\n",
              "      <th>0</th>\n",
              "      <td>0.00632</td>\n",
              "      <td>18.0</td>\n",
              "      <td>2.31</td>\n",
              "      <td>0.0</td>\n",
              "      <td>0.538</td>\n",
              "      <td>6.575</td>\n",
              "      <td>65.2</td>\n",
              "      <td>4.0900</td>\n",
              "      <td>1.0</td>\n",
              "      <td>296.0</td>\n",
              "      <td>15.3</td>\n",
              "      <td>396.90</td>\n",
              "      <td>4.98</td>\n",
              "    </tr>\n",
              "    <tr>\n",
              "      <th>1</th>\n",
              "      <td>0.02731</td>\n",
              "      <td>0.0</td>\n",
              "      <td>7.07</td>\n",
              "      <td>0.0</td>\n",
              "      <td>0.469</td>\n",
              "      <td>6.421</td>\n",
              "      <td>78.9</td>\n",
              "      <td>4.9671</td>\n",
              "      <td>2.0</td>\n",
              "      <td>242.0</td>\n",
              "      <td>17.8</td>\n",
              "      <td>396.90</td>\n",
              "      <td>9.14</td>\n",
              "    </tr>\n",
              "    <tr>\n",
              "      <th>2</th>\n",
              "      <td>0.02729</td>\n",
              "      <td>0.0</td>\n",
              "      <td>7.07</td>\n",
              "      <td>0.0</td>\n",
              "      <td>0.469</td>\n",
              "      <td>7.185</td>\n",
              "      <td>61.1</td>\n",
              "      <td>4.9671</td>\n",
              "      <td>2.0</td>\n",
              "      <td>242.0</td>\n",
              "      <td>17.8</td>\n",
              "      <td>392.83</td>\n",
              "      <td>4.03</td>\n",
              "    </tr>\n",
              "    <tr>\n",
              "      <th>3</th>\n",
              "      <td>0.03237</td>\n",
              "      <td>0.0</td>\n",
              "      <td>2.18</td>\n",
              "      <td>0.0</td>\n",
              "      <td>0.458</td>\n",
              "      <td>6.998</td>\n",
              "      <td>45.8</td>\n",
              "      <td>6.0622</td>\n",
              "      <td>3.0</td>\n",
              "      <td>222.0</td>\n",
              "      <td>18.7</td>\n",
              "      <td>394.63</td>\n",
              "      <td>2.94</td>\n",
              "    </tr>\n",
              "    <tr>\n",
              "      <th>4</th>\n",
              "      <td>0.06905</td>\n",
              "      <td>0.0</td>\n",
              "      <td>2.18</td>\n",
              "      <td>0.0</td>\n",
              "      <td>0.458</td>\n",
              "      <td>7.147</td>\n",
              "      <td>54.2</td>\n",
              "      <td>6.0622</td>\n",
              "      <td>3.0</td>\n",
              "      <td>222.0</td>\n",
              "      <td>18.7</td>\n",
              "      <td>396.90</td>\n",
              "      <td>5.33</td>\n",
              "    </tr>\n",
              "    <tr>\n",
              "      <th>...</th>\n",
              "      <td>...</td>\n",
              "      <td>...</td>\n",
              "      <td>...</td>\n",
              "      <td>...</td>\n",
              "      <td>...</td>\n",
              "      <td>...</td>\n",
              "      <td>...</td>\n",
              "      <td>...</td>\n",
              "      <td>...</td>\n",
              "      <td>...</td>\n",
              "      <td>...</td>\n",
              "      <td>...</td>\n",
              "      <td>...</td>\n",
              "    </tr>\n",
              "    <tr>\n",
              "      <th>501</th>\n",
              "      <td>0.06263</td>\n",
              "      <td>0.0</td>\n",
              "      <td>11.93</td>\n",
              "      <td>0.0</td>\n",
              "      <td>0.573</td>\n",
              "      <td>6.593</td>\n",
              "      <td>69.1</td>\n",
              "      <td>2.4786</td>\n",
              "      <td>1.0</td>\n",
              "      <td>273.0</td>\n",
              "      <td>21.0</td>\n",
              "      <td>391.99</td>\n",
              "      <td>9.67</td>\n",
              "    </tr>\n",
              "    <tr>\n",
              "      <th>502</th>\n",
              "      <td>0.04527</td>\n",
              "      <td>0.0</td>\n",
              "      <td>11.93</td>\n",
              "      <td>0.0</td>\n",
              "      <td>0.573</td>\n",
              "      <td>6.120</td>\n",
              "      <td>76.7</td>\n",
              "      <td>2.2875</td>\n",
              "      <td>1.0</td>\n",
              "      <td>273.0</td>\n",
              "      <td>21.0</td>\n",
              "      <td>396.90</td>\n",
              "      <td>9.08</td>\n",
              "    </tr>\n",
              "    <tr>\n",
              "      <th>503</th>\n",
              "      <td>0.06076</td>\n",
              "      <td>0.0</td>\n",
              "      <td>11.93</td>\n",
              "      <td>0.0</td>\n",
              "      <td>0.573</td>\n",
              "      <td>6.976</td>\n",
              "      <td>91.0</td>\n",
              "      <td>2.1675</td>\n",
              "      <td>1.0</td>\n",
              "      <td>273.0</td>\n",
              "      <td>21.0</td>\n",
              "      <td>396.90</td>\n",
              "      <td>5.64</td>\n",
              "    </tr>\n",
              "    <tr>\n",
              "      <th>504</th>\n",
              "      <td>0.10959</td>\n",
              "      <td>0.0</td>\n",
              "      <td>11.93</td>\n",
              "      <td>0.0</td>\n",
              "      <td>0.573</td>\n",
              "      <td>6.794</td>\n",
              "      <td>89.3</td>\n",
              "      <td>2.3889</td>\n",
              "      <td>1.0</td>\n",
              "      <td>273.0</td>\n",
              "      <td>21.0</td>\n",
              "      <td>393.45</td>\n",
              "      <td>6.48</td>\n",
              "    </tr>\n",
              "    <tr>\n",
              "      <th>505</th>\n",
              "      <td>0.04741</td>\n",
              "      <td>0.0</td>\n",
              "      <td>11.93</td>\n",
              "      <td>0.0</td>\n",
              "      <td>0.573</td>\n",
              "      <td>6.030</td>\n",
              "      <td>80.8</td>\n",
              "      <td>2.5050</td>\n",
              "      <td>1.0</td>\n",
              "      <td>273.0</td>\n",
              "      <td>21.0</td>\n",
              "      <td>396.90</td>\n",
              "      <td>7.88</td>\n",
              "    </tr>\n",
              "  </tbody>\n",
              "</table>\n",
              "<p>506 rows × 13 columns</p>\n",
              "</div>"
            ],
            "text/plain": [
              "        CRIM    ZN  INDUS  CHAS    NOX  ...  RAD    TAX  PTRATIO       B  LSTAT\n",
              "0    0.00632  18.0   2.31   0.0  0.538  ...  1.0  296.0     15.3  396.90   4.98\n",
              "1    0.02731   0.0   7.07   0.0  0.469  ...  2.0  242.0     17.8  396.90   9.14\n",
              "2    0.02729   0.0   7.07   0.0  0.469  ...  2.0  242.0     17.8  392.83   4.03\n",
              "3    0.03237   0.0   2.18   0.0  0.458  ...  3.0  222.0     18.7  394.63   2.94\n",
              "4    0.06905   0.0   2.18   0.0  0.458  ...  3.0  222.0     18.7  396.90   5.33\n",
              "..       ...   ...    ...   ...    ...  ...  ...    ...      ...     ...    ...\n",
              "501  0.06263   0.0  11.93   0.0  0.573  ...  1.0  273.0     21.0  391.99   9.67\n",
              "502  0.04527   0.0  11.93   0.0  0.573  ...  1.0  273.0     21.0  396.90   9.08\n",
              "503  0.06076   0.0  11.93   0.0  0.573  ...  1.0  273.0     21.0  396.90   5.64\n",
              "504  0.10959   0.0  11.93   0.0  0.573  ...  1.0  273.0     21.0  393.45   6.48\n",
              "505  0.04741   0.0  11.93   0.0  0.573  ...  1.0  273.0     21.0  396.90   7.88\n",
              "\n",
              "[506 rows x 13 columns]"
            ]
          },
          "metadata": {
            "tags": []
          },
          "execution_count": 3
        }
      ]
    },
    {
      "cell_type": "markdown",
      "metadata": {
        "id": "P8jSbnT435jd"
      },
      "source": [
        "1.Filter Method"
      ]
    },
    {
      "cell_type": "code",
      "metadata": {
        "colab": {
          "base_uri": "https://localhost:8080/",
          "height": 487
        },
        "id": "pEoF49WL30Tj",
        "outputId": "73953be4-2d75-4bd8-86ad-d5f607f6ff18"
      },
      "source": [
        "#Using Pearson Correlation\r\n",
        "plt.figure(figsize=(10,8))\r\n",
        "cor = df.corr()\r\n",
        "sns.heatmap(cor, annot=True, cmap=plt.cm.seismic)\r\n",
        "plt.show()"
      ],
      "execution_count": 15,
      "outputs": [
        {
          "output_type": "display_data",
          "data": {
            "image/png": "[encoded data removed]",
            "text/plain": [
              "<Figure size 720x576 with 2 Axes>"
            ]
          },
          "metadata": {
            "tags": [],
            "needs_background": "light"
          }
        }
      ]
    },
    {
      "cell_type": "code",
      "metadata": {
        "colab": {
          "base_uri": "https://localhost:8080/"
        },
        "id": "Id8MHNA25l3S",
        "outputId": "7828616a-f54f-4b1b-fbeb-a98089862250"
      },
      "source": [
        "#Correlation with output variable\r\n",
        "cor_target = abs(cor[\"MEDV\"])\r\n",
        "#highly correlated features\r\n",
        "relevant_features = cor_target[cor_target>0.5]\r\n",
        "relevant_features"
      ],
      "execution_count": 17,
      "outputs": [
        {
          "output_type": "execute_result",
          "data": {
            "text/plain": [
              "RM         0.695360\n",
              "PTRATIO    0.507787\n",
              "LSTAT      0.737663\n",
              "MEDV       1.000000\n",
              "Name: MEDV, dtype: float64"
            ]
          },
          "metadata": {
            "tags": []
          },
          "execution_count": 17
        }
      ]
    },
    {
      "cell_type": "code",
      "metadata": {
        "colab": {
          "base_uri": "https://localhost:8080/"
        },
        "id": "0pjIobkk54q4",
        "outputId": "2445bcba-4700-44ef-d30b-610f8c81bdf0"
      },
      "source": [
        "#Check the correlation with these independant variable \r\n",
        "#or\r\n",
        "#df = pd.DataFrame(data,columns=['LSTAT','PTRATIO']), cm=df.corr()\r\n",
        "print(df[[\"LSTAT\",\"PTRATIO\"]].corr())\r\n",
        "print(df[[\"RM\",\"LSTAT\"]].corr())"
      ],
      "execution_count": 25,
      "outputs": [
        {
          "output_type": "stream",
          "text": [
            "            LSTAT   PTRATIO\n",
            "LSTAT    1.000000  0.374044\n",
            "PTRATIO  0.374044  1.000000\n",
            "             RM     LSTAT\n",
            "RM     1.000000 -0.613808\n",
            "LSTAT -0.613808  1.000000\n"
          ],
          "name": "stdout"
        }
      ]
    },
    {
      "cell_type": "markdown",
      "metadata": {
        "id": "3iboUwuZ8zAZ"
      },
      "source": [
        "The variables RM and LSTAT are highly correlated with each other (-0.613808).\r\n",
        "After dropping RM, we are left with two feature, LSTAT and PTRATIO. These are the final features given by Pearson correlation."
      ]
    },
    {
      "cell_type": "markdown",
      "metadata": {
        "id": "Wa1CVwmHINYy"
      },
      "source": [
        "2.Wrapper Method"
      ]
    },
    {
      "cell_type": "code",
      "metadata": {
        "colab": {
          "base_uri": "https://localhost:8080/"
        },
        "id": "cuK_YeoGIWxT",
        "outputId": "a7382ff9-e0f0-4f5f-90db-6ce7a067ae58"
      },
      "source": [
        "#1 Backward Elimination //General steps\r\n",
        "#using OLS model which stands for “Ordinary Least Squares”.\r\n",
        "X_1 = sm.add_constant(X)\r\n",
        "#Fitting sm.OLS model\r\n",
        "model = sm.OLS(y,X_1).fit()\r\n",
        "model.pvalues\r\n",
        "\r\n"
      ],
      "execution_count": 27,
      "outputs": [
        {
          "output_type": "execute_result",
          "data": {
            "text/plain": [
              "const      3.283438e-12\n",
              "CRIM       1.086810e-03\n",
              "ZN         7.781097e-04\n",
              "INDUS      7.382881e-01\n",
              "CHAS       1.925030e-03\n",
              "NOX        4.245644e-06\n",
              "RM         1.979441e-18\n",
              "AGE        9.582293e-01\n",
              "DIS        6.013491e-13\n",
              "RAD        5.070529e-06\n",
              "TAX        1.111637e-03\n",
              "PTRATIO    1.308835e-12\n",
              "B          5.728592e-04\n",
              "LSTAT      7.776912e-23\n",
              "dtype: float64"
            ]
          },
          "metadata": {
            "tags": []
          },
          "execution_count": 27
        }
      ]
    },
    {
      "cell_type": "markdown",
      "metadata": {
        "id": "GeZBX49_a6Mu"
      },
      "source": [
        "By default, statsmodels fits a line passing through the origin, i.e. it doesn't fit an intercept. Hence, you need to use thecommand 'add_constant' so that it also fits an intercept."
      ]
    },
    {
      "cell_type": "code",
      "metadata": {
        "colab": {
          "base_uri": "https://localhost:8080/"
        },
        "id": "pOzMOg_69PDM",
        "outputId": "ee104cf1-384e-4746-9225-b94d6fc5159f"
      },
      "source": [
        "#Fitting sm.OLS model\r\n",
        "model = sm.OLS(y,X_1).fit()\r\n",
        "model.pvalues"
      ],
      "execution_count": 28,
      "outputs": [
        {
          "output_type": "execute_result",
          "data": {
            "text/plain": [
              "const      3.283438e-12\n",
              "CRIM       1.086810e-03\n",
              "ZN         7.781097e-04\n",
              "INDUS      7.382881e-01\n",
              "CHAS       1.925030e-03\n",
              "NOX        4.245644e-06\n",
              "RM         1.979441e-18\n",
              "AGE        9.582293e-01\n",
              "DIS        6.013491e-13\n",
              "RAD        5.070529e-06\n",
              "TAX        1.111637e-03\n",
              "PTRATIO    1.308835e-12\n",
              "B          5.728592e-04\n",
              "LSTAT      7.776912e-23\n",
              "dtype: float64"
            ]
          },
          "metadata": {
            "tags": []
          },
          "execution_count": 28
        }
      ]
    },
    {
      "cell_type": "code",
      "metadata": {
        "colab": {
          "base_uri": "https://localhost:8080/"
        },
        "id": "msZmWZjo9ou-",
        "outputId": "852e3801-cf40-4e35-8d94-c38388a64888"
      },
      "source": [
        "# i)Backward Elimination iteratively\r\n",
        "cols = list(X.columns)\r\n",
        "pmax = 1\r\n",
        "while (len(cols)>0):\r\n",
        "    p= []\r\n",
        "    X_1 = X[cols]\r\n",
        "    X_1 = sm.add_constant(X_1)\r\n",
        "    model = sm.OLS(y,X_1).fit()\r\n",
        "    p = pd.Series(model.pvalues.values[1:],index = cols)      \r\n",
        "    pmax = max(p)\r\n",
        "    feature_with_p_max = p.idxmax()\r\n",
        "    if(pmax>0.05):\r\n",
        "        cols.remove(feature_with_p_max)\r\n",
        "    else:\r\n",
        "        break\r\n",
        "select_feature_BE = cols\r\n",
        "print(select_feature_BE)"
      ],
      "execution_count": 29,
      "outputs": [
        {
          "output_type": "stream",
          "text": [
            "['CRIM', 'ZN', 'CHAS', 'NOX', 'RM', 'DIS', 'RAD', 'TAX', 'PTRATIO', 'B', 'LSTAT']\n"
          ],
          "name": "stdout"
        }
      ]
    },
    {
      "cell_type": "code",
      "metadata": {
        "colab": {
          "base_uri": "https://localhost:8080/"
        },
        "id": "oQ79VdACBa0o",
        "outputId": "e992aa43-87ca-4ec3-eeb0-ae5aec51364a"
      },
      "source": [
        "#ii) RFE (Recursive Feature Elimination) //General steps\r\n",
        "mod = LinearRegression()\r\n",
        "#Initializing RFE model\r\n",
        "rfe = RFE(mod, 7)\r\n",
        "#Transforming data using RFE\r\n",
        "X_rfe = rfe.fit_transform(X,y)  \r\n",
        "print(X_rfe)\r\n",
        "#Fitting the data to model\r\n",
        "mod.fit(X_rfe,y)\r\n",
        "print(rfe.support_)\r\n",
        "print(rfe.ranking_)"
      ],
      "execution_count": 30,
      "outputs": [
        {
          "output_type": "stream",
          "text": [
            "[[ 0.     0.538  6.575 ...  1.    15.3    4.98 ]\n",
            " [ 0.     0.469  6.421 ...  2.    17.8    9.14 ]\n",
            " [ 0.     0.469  7.185 ...  2.    17.8    4.03 ]\n",
            " ...\n",
            " [ 0.     0.573  6.976 ...  1.    21.     5.64 ]\n",
            " [ 0.     0.573  6.794 ...  1.    21.     6.48 ]\n",
            " [ 0.     0.573  6.03  ...  1.    21.     7.88 ]]\n",
            "[False False False  True  True  True False  True  True False  True False\n",
            "  True]\n",
            "[2 4 3 1 1 1 7 1 1 5 1 6 1]\n"
          ],
          "name": "stdout"
        }
      ]
    },
    {
      "cell_type": "code",
      "metadata": {
        "colab": {
          "base_uri": "https://localhost:8080/"
        },
        "id": "7_oWrnIIZdP9",
        "outputId": "00b3c6f1-b890-4a0e-ee18-758a8a1000f9"
      },
      "source": [
        "#Recursively\r\n",
        "#step 1: find the optimal number of features\r\n",
        "model= LinearRegression()\r\n",
        "nof_list=np.arange(1,13)            \r\n",
        "high_score=0\r\n",
        "nof=0           \r\n",
        "score_list =[]\r\n",
        "for n in range(len(nof_list)):\r\n",
        "    X_train, X_test, y_train, y_test = train_test_split(X,y, test_size = 0.3, random_state = 0)\r\n",
        "    model = LinearRegression()\r\n",
        "    rfe = RFE(model,nof_list[n])\r\n",
        "    X_train_rfe = rfe.fit_transform(X_train,y_train)\r\n",
        "    X_test_rfe = rfe.transform(X_test)\r\n",
        "    model.fit(X_train_rfe,y_train)\r\n",
        "    score = model.score(X_test_rfe,y_test)\r\n",
        "    score_list.append(score)\r\n",
        "    if(score>high_score):\r\n",
        "        high_score = score\r\n",
        "        nof = nof_list[n]\r\n",
        "print(\"Optimum number of features: %d\" %nof)\r\n",
        "print(\"Score with %d features: %f\" % (nof, high_score))"
      ],
      "execution_count": 31,
      "outputs": [
        {
          "output_type": "stream",
          "text": [
            "Optimum number of features: 10\n",
            "Score with 10 features: 0.663581\n"
          ],
          "name": "stdout"
        }
      ]
    },
    {
      "cell_type": "code",
      "metadata": {
        "colab": {
          "base_uri": "https://localhost:8080/"
        },
        "id": "zowoepfAc0a0",
        "outputId": "9b24ebbb-e729-43d8-f901-ada3bdbcab27"
      },
      "source": [
        "#step 2: Finding the given number of feattures\r\n",
        "cols = list(X.columns)\r\n",
        "model = LinearRegression()\r\n",
        "rfe = RFE(model, 10)             \r\n",
        "#Transforming data using RFE\r\n",
        "X_rfe = rfe.fit_transform(X,y)  \r\n",
        "model.fit(X_rfe,y)              \r\n",
        "# data = np.array(['a','b','c','d'])\r\n",
        "#s = pd.Series(data,index=[100,101,102,103])\r\n",
        "temp = pd.Series(rfe.support_,index = cols)\r\n",
        "selected_features_rfe = temp[temp==True].index\r\n",
        "print(selected_features_rfe)"
      ],
      "execution_count": 32,
      "outputs": [
        {
          "output_type": "stream",
          "text": [
            "Index(['CRIM', 'ZN', 'INDUS', 'CHAS', 'NOX', 'RM', 'DIS', 'RAD', 'PTRATIO',\n",
            "       'LSTAT'],\n",
            "      dtype='object')\n"
          ],
          "name": "stdout"
        }
      ]
    },
    {
      "cell_type": "code",
      "metadata": {
        "colab": {
          "base_uri": "https://localhost:8080/"
        },
        "id": "7KeOGh8MlKfq",
        "outputId": "72bd7c4e-5c06-4f01-8094-786d1d0d0406"
      },
      "source": [
        "#3 Embedded Method\r\n",
        "reg = LassoCV()\r\n",
        "reg.fit(X, y)\r\n",
        "print(\"Best alpha using built-in LassoCV: %f\" % reg.alpha_)\r\n",
        "print(\"Best score using built-in LassoCV: %f\" %reg.score(X,y))\r\n",
        "coef = pd.Series(reg.coef_, index = X.columns)"
      ],
      "execution_count": 33,
      "outputs": [
        {
          "output_type": "stream",
          "text": [
            "Best alpha using built-in LassoCV: 0.724820\n",
            "Best score using built-in LassoCV: 0.702444\n"
          ],
          "name": "stdout"
        }
      ]
    },
    {
      "cell_type": "code",
      "metadata": {
        "colab": {
          "base_uri": "https://localhost:8080/"
        },
        "id": "NzyCbSVpElX2",
        "outputId": "ccc84f3d-d2aa-4400-e29e-d634e9be73ff"
      },
      "source": [
        "print(\"Lasso picked \" + str(sum(coef != 0)) + \" variables and eliminated the other \" +  str(sum(coef == 0)) + \" variables\")"
      ],
      "execution_count": 34,
      "outputs": [
        {
          "output_type": "stream",
          "text": [
            "Lasso picked 10 variables and eliminated the other 3 variables\n"
          ],
          "name": "stdout"
        }
      ]
    },
    {
      "cell_type": "code",
      "metadata": {
        "colab": {
          "base_uri": "https://localhost:8080/",
          "height": 625
        },
        "id": "xrh6hoMmErZJ",
        "outputId": "da14c29b-1950-4860-cadd-8779d841701d"
      },
      "source": [
        "imp_coef = coef.sort_values()\r\n",
        "import matplotlib\r\n",
        "matplotlib.rcParams['figure.figsize'] = (8.0, 10.0)\r\n",
        "imp_coef.plot(kind = \"barh\")\r\n",
        "plt.title(\"Feature importance using Lasso Model\")"
      ],
      "execution_count": 35,
      "outputs": [
        {
          "output_type": "execute_result",
          "data": {
            "text/plain": [
              "Text(0.5, 1.0, 'Feature importance using Lasso Model')"
            ]
          },
          "metadata": {
            "tags": []
          },
          "execution_count": 35
        },
        {
          "output_type": "display_data",
          "data": {
            "image/png": "[encoded data removed]",
            "text/plain": [
              "<Figure size 576x720 with 1 Axes>"
            ]
          },
          "metadata": {
            "tags": [],
            "needs_background": "light"
          }
        }
      ]
    }
  ]
}