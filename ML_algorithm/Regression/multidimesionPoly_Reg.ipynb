{
  "nbformat": 4,
  "nbformat_minor": 0,
  "metadata": {
    "colab": {
      "name": "multidimesionPoly_Reg.ipynb",
      "provenance": [],
      "collapsed_sections": [],
      "authorship_tag": "ABX9TyOe9pYPlhHP0qjvP1Mb3fjN",
      "include_colab_link": true
    },
    "kernelspec": {
      "name": "python3",
      "display_name": "Python 3"
    }
  },
  "cells": [
    {
      "cell_type": "markdown",
      "metadata": {
        "id": "view-in-github",
        "colab_type": "text"
      },
      "source": [
        "<a href=\"https://colab.research.google.com/github/lakshmirnair/problem-solving-in-python/blob/master/ML_algorithm/Regression/multidimesionPoly_Reg.ipynb\" target=\"_parent\"><img src=\"https://colab.research.google.com/assets/colab-badge.svg\" alt=\"Open In Colab\"/></a>"
      ]
    },
    {
      "cell_type": "code",
      "metadata": {
        "id": "RQpg7TuzwrSa",
        "colab": {
          "base_uri": "https://localhost:8080/",
          "height": 265
        },
        "outputId": "6c533356-5896-410c-ba1d-0495ae301d15"
      },
      "source": [
        "import numpy as np\r\n",
        "import matplotlib.pyplot as plt\r\n",
        "from sklearn.linear_model import LinearRegression\r\n",
        "\r\n",
        "\r\n",
        "np.random.seed(0)\r\n",
        "x = 2 - 3 * np.random.normal(0, 1, 20)\r\n",
        "y = x - 2 * (x ** 2) + 0.5 * (x ** 3) + np.random.normal(-3, 3, 20)\r\n",
        "\r\n",
        "#  new axis increse the dimension 1D to 2D, 2D to 3D etc\r\n",
        "x = x[:, np.newaxis]\r\n",
        "y = y[:, np.newaxis]\r\n",
        "\r\n",
        "a=x\r\n",
        "b=y\r\n",
        "\r\n",
        "model = LinearRegression()\r\n",
        "model.fit(x, y)\r\n",
        "y_pred = model.predict(x)\r\n",
        "plt.scatter(x, y, s=10)\r\n",
        "plt.plot(x, y_pred, color='r')\r\n",
        "plt.show()"
      ],
      "execution_count": null,
      "outputs": [
        {
          "output_type": "display_data",
          "data": {
            "image/png": "[encoded data removed]",
            "text/plain": [
              "<Figure size 432x288 with 1 Axes>"
            ]
          },
          "metadata": {
            "tags": [],
            "needs_background": "light"
          }
        }
      ]
    },
    {
      "cell_type": "code",
      "metadata": {
        "colab": {
          "base_uri": "https://localhost:8080/"
        },
        "id": "HE1t9GqWb8YQ",
        "outputId": "64a9b435-74a1-488f-da7f-0408d5b9f682"
      },
      "source": [
        "from sklearn.metrics import mean_squared_error\r\n",
        "print('RMSE :',np.sqrt(mean_squared_error(y,y_pred)))"
      ],
      "execution_count": null,
      "outputs": [
        {
          "output_type": "stream",
          "text": [
            "RMSE : 15.908242501429998\n"
          ],
          "name": "stdout"
        }
      ]
    },
    {
      "cell_type": "code",
      "metadata": {
        "colab": {
          "base_uri": "https://localhost:8080/",
          "height": 300
        },
        "id": "BNMHNEwncJY1",
        "outputId": "04674544-d120-4385-ad01-0e61091475fe"
      },
      "source": [
        "\r\n",
        "\r\n",
        "# creating pipeline and fitting it on data, Degree 2\r\n",
        "\r\n",
        "from sklearn.metrics import mean_squared_error, r2_score\r\n",
        "from sklearn.preprocessing import PolynomialFeatures\r\n",
        "\r\n",
        "polynomial_features= PolynomialFeatures(degree=2)\r\n",
        "x_poly = polynomial_features.fit_transform(x)\r\n",
        "\r\n",
        "model = LinearRegression()\r\n",
        "model.fit(x_poly, y)\r\n",
        "y_poly_pred = model.predict(x_poly)\r\n",
        "\r\n",
        "rmse = np.sqrt(mean_squared_error(y,y_poly_pred))\r\n",
        "r2 = r2_score(y,y_poly_pred)\r\n",
        "print(rmse)\r\n",
        "print(r2)\r\n",
        "\r\n",
        "\r\n",
        "sorted_zip = sorted(zip(x,y_poly_pred))\r\n",
        "x_new, y_poly_pred = zip(*sorted_zip)\r\n",
        "\r\n",
        "\r\n",
        "model = LinearRegression()\r\n",
        "model.fit(x, y)\r\n",
        "y_pred = model.predict(x)\r\n",
        "plt.scatter(x, y)\r\n",
        "plt.plot(x, y_pred, color='r')\r\n",
        "\r\n",
        "\r\n",
        "plt.plot(x_new, y_poly_pred,color=\"g\")\r\n",
        "plt.show()"
      ],
      "execution_count": null,
      "outputs": [
        {
          "output_type": "stream",
          "text": [
            "23.20425103834196\n",
            "0.23124366071264557\n"
          ],
          "name": "stdout"
        },
        {
          "output_type": "display_data",
          "data": {
            "image/png": "[encoded data removed]",
            "text/plain": [
              "<Figure size 432x288 with 1 Axes>"
            ]
          },
          "metadata": {
            "tags": [],
            "needs_background": "light"
          }
        }
      ]
    },
    {
      "cell_type": "code",
      "metadata": {
        "colab": {
          "base_uri": "https://localhost:8080/",
          "height": 300
        },
        "id": "WxRyt1_-dP4T",
        "outputId": "c56d2546-3531-4077-e8e1-102260fdf3a5"
      },
      "source": [
        "\r\n",
        "\r\n",
        "# creating pipeline and fitting it on data, Degree 2\r\n",
        "from sklearn.metrics import mean_squared_error, r2_score\r\n",
        "from sklearn.preprocessing import PolynomialFeatures\r\n",
        "\r\n",
        "polynomial_features= PolynomialFeatures(degree=3)\r\n",
        "x_poly = polynomial_features.fit_transform(a)\r\n",
        "\r\n",
        "model = LinearRegression()\r\n",
        "model.fit(x_poly, b)\r\n",
        "y_poly_pred = model.predict(x_poly)\r\n",
        "\r\n",
        "rmse = np.sqrt(mean_squared_error(b,y_poly_pred))\r\n",
        "r2 = r2_score(b,y_poly_pred)\r\n",
        "print(rmse)\r\n",
        "print(r2)\r\n",
        "\r\n",
        "\r\n",
        "sorted_zip = sorted(zip(a,y_poly_pred))\r\n",
        "x_new, y_poly_pred = zip(*sorted_zip)\r\n",
        "\r\n",
        "\r\n",
        "model = LinearRegression()\r\n",
        "model.fit(a, b)\r\n",
        "y_pred = model.predict(a)\r\n",
        "plt.scatter(a, b)\r\n",
        "plt.plot(a, y_pred, color='r')\r\n",
        "\r\n",
        "\r\n",
        "plt.plot(x_new, y_poly_pred,color='g')\r\n",
        "plt.show()"
      ],
      "execution_count": null,
      "outputs": [
        {
          "output_type": "stream",
          "text": [
            "3.449895507408725\n",
            "0.9830071790386679\n"
          ],
          "name": "stdout"
        },
        {
          "output_type": "display_data",
          "data": {
            "image/png": "[encoded data removed]",
            "text/plain": [
              "<Figure size 432x288 with 1 Axes>"
            ]
          },
          "metadata": {
            "tags": [],
            "needs_background": "light"
          }
        }
      ]
    }
  ]
}